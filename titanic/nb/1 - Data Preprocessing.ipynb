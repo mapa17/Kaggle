{
 "cells": [
  {
   "cell_type": "code",
   "execution_count": 1,
   "metadata": {},
   "outputs": [],
   "source": [
    "import numpy as np\n",
    "import pandas as pd\n",
    "from matplotlib import pyplot as plt\n",
    "import seaborn as sns\n",
    "import scipy as sp\n",
    "%matplotlib inline\n",
    "plt.rcParams['figure.figsize'] = [15, 5]"
   ]
  },
  {
   "cell_type": "code",
   "execution_count": 2,
   "metadata": {},
   "outputs": [
    {
     "name": "stdout",
     "output_type": "stream",
     "text": [
      "gender_submission.csv test.csv              train.csv\r\n"
     ]
    }
   ],
   "source": [
    "!ls ../input_data/\n",
    "train = pd.read_csv('../input_data/train.csv')\n",
    "test = pd.read_csv('../input_data/test.csv')"
   ]
  },
  {
   "cell_type": "markdown",
   "metadata": {},
   "source": [
    "# Feature engineering"
   ]
  },
  {
   "cell_type": "code",
   "execution_count": 3,
   "metadata": {},
   "outputs": [],
   "source": [
    "\n",
    "def preprocess(T):\n",
    "    T = T.set_index('PassengerId')\n",
    "    # Create a marker for missing data\n",
    "    T['UnknownCabin'] = T['Cabin'].isna().astype(int)\n",
    "    T['UnknownAge'] = T['Age'].isna().astype(int)\n",
    "    T['Sp-Pa'] = T['SibSp'] - T['Parch']\n",
    "    \n",
    "    # Define fare categories\n",
    "    T['FareCat'] = 1\n",
    "    T.loc[T['Fare'] <= 10.0, 'FareCat'] = 0\n",
    "    T.loc[T['Fare'] >= 50.0, 'FareCat'] = 2\n",
    "    \n",
    "    T['AgeCat'] = 0 # Children and babies\n",
    "    T.loc[T['Age'] >= 10.0, 'AgeCat'] = 1 # Adult\n",
    "    \n",
    "    # Estimate Age category based on Title\n",
    "    # Mr & Mrs ... are adults\n",
    "    # Miss & Master ... are children\n",
    "    # All the rest should be adults too\n",
    "    T['Title'] = T['Name'].str.split().apply(lambda name: name[1])\n",
    "    T['AgeCatByTitle'] = 1;\n",
    "    T.loc[T['Title'].isin(['Miss.', 'Master.']), 'AgeCatByTitle'] = 0\n",
    "    \n",
    "    # For missing entries overwrite AgeCat\n",
    "    T.loc[T['UnknownAge'].astype(bool), 'AgeCat'] = T.loc[T['UnknownAge'].astype(bool), 'AgeCatByTitle']\n",
    "    \n",
    "    # Convert to easy to process values\n",
    "\n",
    "    # 0 ... female, 1 ... male\n",
    "    T['ppSex'] = (T['Sex'] == 'male').astype(int)\n",
    "\n",
    "    T['ppEmbarked'] = T['Embarked'].astype('category').cat.codes\n",
    "    \n",
    "    if 'Survived' in T.columns:\n",
    "        # Split depended and indepened\n",
    "        Y = pd.DataFrame(T['Survived'])\n",
    "        T.drop('Survived', axis=1, inplace=True)\n",
    "    else:\n",
    "        Y = pd.DataFrame((T['Age']*np.nan).rename('Survived'))\n",
    "    \n",
    "    # Only keep some features\n",
    "    keep = ['Pclass', 'AgeCat', 'Sp-Pa', 'SibSp', 'Parch', 'FareCat', 'ppEmbarked', 'UnknownCabin', 'UnknownAge', 'ppSex']\n",
    "\n",
    "\n",
    "    return T[keep], Y"
   ]
  },
  {
   "cell_type": "code",
   "execution_count": 4,
   "metadata": {},
   "outputs": [],
   "source": [
    "Xtrain, Ytrain = preprocess(train)\n",
    "Xtest, Ytest = preprocess(test)"
   ]
  },
  {
   "cell_type": "code",
   "execution_count": 5,
   "metadata": {},
   "outputs": [
    {
     "name": "stdout",
     "output_type": "stream",
     "text": [
      "Number of missing values\n"
     ]
    },
    {
     "data": {
      "text/html": [
       "<div>\n",
       "<style scoped>\n",
       "    .dataframe tbody tr th:only-of-type {\n",
       "        vertical-align: middle;\n",
       "    }\n",
       "\n",
       "    .dataframe tbody tr th {\n",
       "        vertical-align: top;\n",
       "    }\n",
       "\n",
       "    .dataframe thead th {\n",
       "        text-align: right;\n",
       "    }\n",
       "</style>\n",
       "<table border=\"1\" class=\"dataframe\">\n",
       "  <thead>\n",
       "    <tr style=\"text-align: right;\">\n",
       "      <th></th>\n",
       "      <th>Pclass</th>\n",
       "      <th>AgeCat</th>\n",
       "      <th>Sp-Pa</th>\n",
       "      <th>SibSp</th>\n",
       "      <th>Parch</th>\n",
       "      <th>FareCat</th>\n",
       "      <th>ppEmbarked</th>\n",
       "      <th>UnknownCabin</th>\n",
       "      <th>UnknownAge</th>\n",
       "      <th>ppSex</th>\n",
       "    </tr>\n",
       "  </thead>\n",
       "  <tbody>\n",
       "    <tr>\n",
       "      <th>0</th>\n",
       "      <td>0</td>\n",
       "      <td>0</td>\n",
       "      <td>0</td>\n",
       "      <td>0</td>\n",
       "      <td>0</td>\n",
       "      <td>0</td>\n",
       "      <td>0</td>\n",
       "      <td>0</td>\n",
       "      <td>0</td>\n",
       "      <td>0</td>\n",
       "    </tr>\n",
       "  </tbody>\n",
       "</table>\n",
       "</div>"
      ],
      "text/plain": [
       "   Pclass  AgeCat  Sp-Pa  SibSp  Parch  FareCat  ppEmbarked  UnknownCabin  UnknownAge  ppSex\n",
       "0       0       0      0      0      0        0           0             0           0      0"
      ]
     },
     "execution_count": 5,
     "metadata": {},
     "output_type": "execute_result"
    }
   ],
   "source": [
    "print(\"Number of missing values\")\n",
    "pd.DataFrame(Xtrain.isna().sum(axis=0)).T"
   ]
  },
  {
   "cell_type": "code",
   "execution_count": 6,
   "metadata": {},
   "outputs": [
    {
     "data": {
      "text/html": [
       "<div>\n",
       "<style scoped>\n",
       "    .dataframe tbody tr th:only-of-type {\n",
       "        vertical-align: middle;\n",
       "    }\n",
       "\n",
       "    .dataframe tbody tr th {\n",
       "        vertical-align: top;\n",
       "    }\n",
       "\n",
       "    .dataframe thead th {\n",
       "        text-align: right;\n",
       "    }\n",
       "</style>\n",
       "<table border=\"1\" class=\"dataframe\">\n",
       "  <thead>\n",
       "    <tr style=\"text-align: right;\">\n",
       "      <th></th>\n",
       "      <th>Pclass</th>\n",
       "      <th>AgeCat</th>\n",
       "      <th>Sp-Pa</th>\n",
       "      <th>SibSp</th>\n",
       "      <th>Parch</th>\n",
       "      <th>FareCat</th>\n",
       "      <th>ppEmbarked</th>\n",
       "      <th>UnknownCabin</th>\n",
       "      <th>UnknownAge</th>\n",
       "      <th>ppSex</th>\n",
       "    </tr>\n",
       "  </thead>\n",
       "  <tbody>\n",
       "    <tr>\n",
       "      <th>0</th>\n",
       "      <td>0</td>\n",
       "      <td>0</td>\n",
       "      <td>0</td>\n",
       "      <td>0</td>\n",
       "      <td>0</td>\n",
       "      <td>0</td>\n",
       "      <td>0</td>\n",
       "      <td>0</td>\n",
       "      <td>0</td>\n",
       "      <td>0</td>\n",
       "    </tr>\n",
       "  </tbody>\n",
       "</table>\n",
       "</div>"
      ],
      "text/plain": [
       "   Pclass  AgeCat  Sp-Pa  SibSp  Parch  FareCat  ppEmbarked  UnknownCabin  UnknownAge  ppSex\n",
       "0       0       0      0      0      0        0           0             0           0      0"
      ]
     },
     "execution_count": 6,
     "metadata": {},
     "output_type": "execute_result"
    }
   ],
   "source": [
    "pd.DataFrame(Xtest.isna().sum(axis=0)).T"
   ]
  },
  {
   "cell_type": "markdown",
   "metadata": {},
   "source": [
    "# Storing results\n",
    "write results to a hdf file in ../data"
   ]
  },
  {
   "cell_type": "code",
   "execution_count": 7,
   "metadata": {},
   "outputs": [],
   "source": [
    "from pandas import HDFStore\n",
    "with HDFStore('../data/processed.h5', mode='w') as hdf:\n",
    "    hdf.put('Xtrain', Xtrain)\n",
    "    hdf.put('Ytrain', Ytrain)\n",
    "    hdf.put('Xtest', Xtest)\n",
    "    hdf.put('Ytest', Ytest)"
   ]
  },
  {
   "cell_type": "code",
   "execution_count": null,
   "metadata": {},
   "outputs": [],
   "source": []
  }
 ],
 "metadata": {
  "kernelspec": {
   "display_name": "Python 3",
   "language": "python",
   "name": "python3"
  },
  "language_info": {
   "codemirror_mode": {
    "name": "ipython",
    "version": 3
   },
   "file_extension": ".py",
   "mimetype": "text/x-python",
   "name": "python",
   "nbconvert_exporter": "python",
   "pygments_lexer": "ipython3",
   "version": "3.6.5"
  }
 },
 "nbformat": 4,
 "nbformat_minor": 2
}
